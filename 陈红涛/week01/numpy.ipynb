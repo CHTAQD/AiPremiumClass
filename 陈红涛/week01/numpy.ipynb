{
 "cells": [
  {
   "cell_type": "code",
   "execution_count": null,
   "metadata": {},
   "outputs": [],
   "source": [
    "import numpy as np;\n",
    "#引入numpy包并命名别名np"
   ]
  },
  {
   "cell_type": "code",
   "execution_count": null,
   "metadata": {},
   "outputs": [
    {
     "name": "stdout",
     "output_type": "stream",
     "text": [
      "[1 2 3 4 5]\n"
     ]
    }
   ],
   "source": [
    "#创建数组\n",
    "a = np.array([1,2,3,4,5]);\n",
    "print(a);"
   ]
  },
  {
   "cell_type": "code",
   "execution_count": null,
   "metadata": {},
   "outputs": [
    {
     "name": "stdout",
     "output_type": "stream",
     "text": [
      "[1 3 5 7 9]\n"
     ]
    }
   ],
   "source": [
    "#返回一个等差数列的数组 不包含结尾\n",
    "getrarnge = np.arange(1,10,2);\n",
    "print(getrarnge);"
   ]
  },
  {
   "cell_type": "code",
   "execution_count": 6,
   "metadata": {},
   "outputs": [
    {
     "name": "stdout",
     "output_type": "stream",
     "text": [
      "[0. 0. 0. 0. 0.]\n"
     ]
    }
   ],
   "source": [
    "#创建全零数组\n",
    "np.zeros(5);\n",
    "print(np.zeros(5));"
   ]
  },
  {
   "cell_type": "code",
   "execution_count": 7,
   "metadata": {},
   "outputs": [
    {
     "name": "stdout",
     "output_type": "stream",
     "text": [
      "[1. 1. 1. 1. 1.]\n"
     ]
    }
   ],
   "source": [
    "#创建全一数组\n",
    "np.ones(5);\n",
    "print(np.ones(5));"
   ]
  },
  {
   "cell_type": "code",
   "execution_count": null,
   "metadata": {},
   "outputs": [
    {
     "name": "stdout",
     "output_type": "stream",
     "text": [
      "[[1 2]\n",
      " [3 4]\n",
      " [5 6]]\n"
     ]
    }
   ],
   "source": [
    "#改变数组的形状 确保数组的元素个数不变，改变数组的形状\n",
    "b = np.array([[1,2,3],[4,5,6]]);\n",
    "resArr = b.reshape(3,2);\n",
    "print(resArr);"
   ]
  },
  {
   "cell_type": "code",
   "execution_count": 12,
   "metadata": {},
   "outputs": [
    {
     "name": "stdout",
     "output_type": "stream",
     "text": [
      "[[1 3]\n",
      " [2 4]]\n"
     ]
    }
   ],
   "source": [
    "#置换数组行列\n",
    "c = np.array([[1, 2], [3, 4]])\n",
    "resArr1 = c.T;\n",
    "print(resArr1);"
   ]
  },
  {
   "cell_type": "code",
   "execution_count": null,
   "metadata": {},
   "outputs": [
    {
     "name": "stdout",
     "output_type": "stream",
     "text": [
      "[[1 2]\n",
      " [3 4]]\n",
      "[[1 3]\n",
      " [2 4]]\n"
     ]
    }
   ],
   "source": [
    "#置换数组行列\n",
    "arr = np.array([[1, 2], [3, 4]])\n",
    "print(arr)\n",
    "transposed_arr = np.transpose(arr)\n",
    "print(transposed_arr)"
   ]
  },
  {
   "cell_type": "code",
   "execution_count": 16,
   "metadata": {},
   "outputs": [
    {
     "name": "stdout",
     "output_type": "stream",
     "text": [
      "[[19 22]\n",
      " [43 50]]\n",
      "11\n",
      "[17 39]\n",
      "[2 4]\n"
     ]
    }
   ],
   "source": [
    "#点积 @ 或者 np.dot\n",
    "#两个数组的点积是通过将第一个数组的行与第二个数组的列对应元素相乘获得的\n",
    "#向量的点积返回一个标量\n",
    "#矩阵的点积返回一个矩阵\n",
    "#矩阵的点积必须是第一个矩阵的列数等于第二个矩阵的行数 否则会报错\n",
    "#点积的结果是第一个矩阵的行数和第二个矩阵的列数 \n",
    "#运算过程是第一个矩阵的行与第二个矩阵的列对应元素相乘然后相加\n",
    "\n",
    "#点积 矩阵\n",
    "a = np.array([[1,2],[3,4]]);\n",
    "b = np.array([[5,6],[7,8]]);\n",
    "print(a@b);\n",
    "\n",
    "#两个向量的点积\n",
    "c = np.array([1,2]);\n",
    "d = np.array([3,4]);\n",
    "print(c@d);\n",
    "\n",
    "#矩阵与向量的点积返回一个向量\n",
    "e = np.array([[1,2],[3,4]]);\n",
    "f = np.array([5,6]);\n",
    "print(e@f);\n",
    "\n",
    "#向量与标量的乘积\n",
    "g = np.array([1,2]);\n",
    "print(g*2);\n"
   ]
  },
  {
   "cell_type": "code",
   "execution_count": null,
   "metadata": {},
   "outputs": [
    {
     "name": "stdout",
     "output_type": "stream",
     "text": [
      "[5 7 9]\n"
     ]
    }
   ],
   "source": [
    "\n",
    "#数组的加法\n",
    "a = np.array([1,2,3]);\n",
    "b = np.array([4,5,6]);\n",
    "print(a+b);"
   ]
  },
  {
   "cell_type": "code",
   "execution_count": 18,
   "metadata": {},
   "outputs": [
    {
     "name": "stdout",
     "output_type": "stream",
     "text": [
      "1\n",
      "3\n",
      "[1 2]\n",
      "[1 2]\n",
      "[1 2 3]\n"
     ]
    }
   ],
   "source": [
    "#数组的值获取\n",
    "a = np.array([1,2,3]);\n",
    "print(a[0]);\n",
    "#获取最后一个值\n",
    "print(a[-1]);\n",
    "#获取从下标0开始到下标2的值\n",
    "print(a[0:2]);\n",
    "print(a[:2]);\n",
    "print(a[0:]);"
   ]
  },
  {
   "cell_type": "code",
   "execution_count": 19,
   "metadata": {},
   "outputs": [
    {
     "name": "stdout",
     "output_type": "stream",
     "text": [
      "6\n"
     ]
    }
   ],
   "source": [
    "#数组求和\n",
    "a = np.array([1,2,3]);\n",
    "print(a.sum());"
   ]
  },
  {
   "cell_type": "code",
   "execution_count": 20,
   "metadata": {},
   "outputs": [
    {
     "name": "stdout",
     "output_type": "stream",
     "text": [
      "2.0\n"
     ]
    }
   ],
   "source": [
    "#计算均值\n",
    "a = np.array([1,2,3]);\n",
    "print(a.mean());"
   ]
  },
  {
   "cell_type": "code",
   "execution_count": 22,
   "metadata": {},
   "outputs": [
    {
     "name": "stdout",
     "output_type": "stream",
     "text": [
      "3\n",
      "1\n",
      "2\n",
      "0\n"
     ]
    }
   ],
   "source": [
    "#获取数组最大值最小值与最大值最小值的索引\n",
    "a = np.array([1,2,3]);\n",
    "print(a.max());\n",
    "print(a.min());\n",
    "print(a.argmax());\n",
    "print(a.argmin());"
   ]
  },
  {
   "cell_type": "code",
   "execution_count": 23,
   "metadata": {},
   "outputs": [
    {
     "name": "stdout",
     "output_type": "stream",
     "text": [
      "[1 2 3]\n"
     ]
    }
   ],
   "source": [
    "#数组排序\n",
    "a = np.array([3,2,1]);\n",
    "print(np.sort(a));"
   ]
  },
  {
   "cell_type": "code",
   "execution_count": 24,
   "metadata": {},
   "outputs": [
    {
     "name": "stdout",
     "output_type": "stream",
     "text": [
      "tensor([1, 2, 3])\n"
     ]
    }
   ],
   "source": [
    "#引入torch包\n",
    "import torch;\n",
    "#创建一个张量\n",
    "a = torch.tensor([1,2,3]);\n",
    "print(a);"
   ]
  },
  {
   "cell_type": "code",
   "execution_count": null,
   "metadata": {},
   "outputs": [],
   "source": [
    "#明天再写张量的操作"
   ]
  }
 ],
 "metadata": {
  "kernelspec": {
   "display_name": "py310",
   "language": "python",
   "name": "python3"
  },
  "language_info": {
   "codemirror_mode": {
    "name": "ipython",
    "version": 3
   },
   "file_extension": ".py",
   "mimetype": "text/x-python",
   "name": "python",
   "nbconvert_exporter": "python",
   "pygments_lexer": "ipython3",
   "version": "3.10.16"
  }
 },
 "nbformat": 4,
 "nbformat_minor": 2
}
