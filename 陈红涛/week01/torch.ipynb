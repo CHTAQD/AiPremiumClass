{
 "cells": [
  {
   "cell_type": "code",
   "execution_count": null,
   "metadata": {},
   "outputs": [
    {
     "name": "stdout",
     "output_type": "stream",
     "text": [
      "tensor([1, 2, 3, 4])\n"
     ]
    }
   ],
   "source": [
    "#引入torch\n",
    "import torch;\n",
    "#创建张量 张量作为容器\n",
    "x = torch.tensor([1,2,3,4]);\n",
    "#打印张量\n",
    "print(x);"
   ]
  },
  {
   "cell_type": "code",
   "execution_count": 2,
   "metadata": {},
   "outputs": [
    {
     "name": "stdout",
     "output_type": "stream",
     "text": [
      "tensor([[0., 0., 0.],\n",
      "        [0., 0., 0.]])\n"
     ]
    }
   ],
   "source": [
    "#创建一个全是0的张量\n",
    "x = torch.zeros(2,3);\n",
    "print(x);"
   ]
  },
  {
   "cell_type": "code",
   "execution_count": 3,
   "metadata": {},
   "outputs": [
    {
     "name": "stdout",
     "output_type": "stream",
     "text": [
      "tensor([[1., 1., 1.],\n",
      "        [1., 1., 1.]])\n"
     ]
    }
   ],
   "source": [
    "#创建一个全是1的张量\n",
    "x = torch.ones(2,3);\n",
    "print(x);"
   ]
  },
  {
   "cell_type": "code",
   "execution_count": 8,
   "metadata": {},
   "outputs": [
    {
     "name": "stdout",
     "output_type": "stream",
     "text": [
      "tensor([[0.7633, 2.0736, 0.7605],\n",
      "        [7.8881, 8.0691, 7.9623]])\n"
     ]
    }
   ],
   "source": [
    "#创建一个随机张量\n",
    "x = torch.rand(2,3)*10;\n",
    "print(x);"
   ]
  },
  {
   "cell_type": "code",
   "execution_count": 9,
   "metadata": {},
   "outputs": [
    {
     "name": "stdout",
     "output_type": "stream",
     "text": [
      "tensor([[-0.6462,  0.2620, -0.8428],\n",
      "        [ 1.1195, -0.8046, -0.6330]])\n"
     ]
    }
   ],
   "source": [
    "#随机一个正态分布的张量\n",
    "x = torch.randn(2,3);\n",
    "print(x);"
   ]
  },
  {
   "cell_type": "code",
   "execution_count": null,
   "metadata": {},
   "outputs": [
    {
     "name": "stdout",
     "output_type": "stream",
     "text": [
      "tensor([3, 4, 5, 6])\n",
      "tensor([-1,  0,  1,  2])\n",
      "tensor([2, 4, 6, 8])\n",
      "tensor([0.5000, 1.0000, 1.5000, 2.0000])\n"
     ]
    }
   ],
   "source": [
    "#张量的运算\n",
    "x = torch.tensor([1,2,3,4]);\n",
    "y = torch.tensor([2,2,2,2]);\n",
    "print(x+y);\n",
    "print(x-y);\n",
    "print(x*y);#乘积 矩阵对应相乘\n",
    "print(x/y);\n"
   ]
  },
  {
   "cell_type": "code",
   "execution_count": 11,
   "metadata": {},
   "outputs": [
    {
     "name": "stdout",
     "output_type": "stream",
     "text": [
      "tensor([3, 4, 5, 6])\n",
      "tensor([-1,  0,  1,  2])\n",
      "tensor([2, 4, 6, 8])\n",
      "tensor([0.5000, 1.0000, 1.5000, 2.0000])\n"
     ]
    }
   ],
   "source": [
    "#张量的运算符\n",
    "x = torch.tensor([1,2,3,4]);\n",
    "y = torch.tensor([2,2,2,2]);\n",
    "print(x.add(y));\n",
    "print(x.sub(y));\n",
    "print(x.mul(y));\n",
    "print(x.div(y));"
   ]
  },
  {
   "cell_type": "code",
   "execution_count": 13,
   "metadata": {},
   "outputs": [
    {
     "name": "stdout",
     "output_type": "stream",
     "text": [
      "tensor([3, 4, 5, 6])\n",
      "tensor([ 1,  0, -1, -2])\n",
      "tensor([2, 4, 6, 8])\n",
      "tensor([2.0000, 1.0000, 0.6667, 0.5000])\n"
     ]
    }
   ],
   "source": [
    "#张量的运算符\n",
    "x = torch.tensor([1,2,3,4]);\n",
    "y = torch.tensor([2,2,2,2]);\n",
    "print(torch.add(y,x));\n",
    "print(torch.sub(y,x));\n",
    "print(torch.mul(y,x));\n",
    "print(torch.div(y,x));"
   ]
  },
  {
   "cell_type": "code",
   "execution_count": null,
   "metadata": {},
   "outputs": [
    {
     "name": "stdout",
     "output_type": "stream",
     "text": [
      "tensor(20)\n"
     ]
    }
   ],
   "source": [
    "#张量的向量点积\n",
    "x = torch.tensor([1,2,3,4]);\n",
    "y = torch.tensor([2,2,2,2]);\n",
    "print(x.dot(y));"
   ]
  },
  {
   "cell_type": "code",
   "execution_count": null,
   "metadata": {},
   "outputs": [
    {
     "name": "stdout",
     "output_type": "stream",
     "text": [
      "tensor([[ 8, 12],\n",
      "        [ 8, 12]])\n",
      "tensor([[ 8, 12],\n",
      "        [ 8, 12]])\n",
      "tensor([[ 8, 12],\n",
      "        [ 8, 12]])\n"
     ]
    }
   ],
   "source": [
    "#张量的矩阵点积能使用dot吗 不行 会报错 不像numpy 通用@符号\n",
    "#x = torch.tensor([[1,2],[3,4]]);\n",
    "#y = torch.tensor([[2,2],[2,2]]);\n",
    "#print(x.dot(y));\n",
    "x = torch.tensor([[1,2],[3,4]]);\n",
    "y = torch.tensor([[2,2],[2,2]]);\n",
    "#print(torth.dot(y,x));#或者使用y.mm(x)  y@x\n",
    "print(y.mm(x));\n",
    "print(y@x); #也可以使用numpy中的矩阵点积符号\n",
    "print(torch.mm(y,x));"
   ]
  },
  {
   "cell_type": "code",
   "execution_count": 22,
   "metadata": {},
   "outputs": [
    {
     "name": "stdout",
     "output_type": "stream",
     "text": [
      "tensor([[ 6,  6],\n",
      "        [14, 14]])\n",
      "tensor([[ 6,  6],\n",
      "        [14, 14]])\n",
      "tensor([[ 6,  6],\n",
      "        [14, 14]])\n"
     ]
    }
   ],
   "source": [
    "#矩阵点积\n",
    "x = torch.tensor([[1,2],[3,4]]);\n",
    "y = torch.tensor([[2,2],[2,2]]);\n",
    "print(x.matmul(y));\n",
    "print(torch.mm(x,y));\n",
    "print(x@y);"
   ]
  },
  {
   "cell_type": "code",
   "execution_count": null,
   "metadata": {},
   "outputs": [
    {
     "name": "stdout",
     "output_type": "stream",
     "text": [
      "tensor([[1, 2, 3],\n",
      "        [4, 5, 6]])\n",
      "torch.Size([2, 3])\n",
      "torch.Size([2, 3])\n",
      "tensor([[1, 2],\n",
      "        [3, 4],\n",
      "        [5, 6]])\n",
      "tensor([[1],\n",
      "        [2],\n",
      "        [3],\n",
      "        [4],\n",
      "        [5],\n",
      "        [6]])\n",
      "tensor([1, 2, 3, 4, 5, 6])\n",
      "tensor([[1, 2],\n",
      "        [3, 4],\n",
      "        [5, 6]])\n",
      "tensor([[1, 2, 3],\n",
      "        [4, 5, 6]])\n",
      "tensor([[1, 2],\n",
      "        [3, 4],\n",
      "        [5, 6]])\n",
      "shape '[4, -1]' is invalid for input of size 6\n"
     ]
    }
   ],
   "source": [
    "#改变张量的形状\n",
    "x = torch.tensor([[1,2,3],[4,5,6]]);\n",
    "print(x);\n",
    "print(x.shape);\n",
    "print(x.size());\n",
    "print(x.view(3,2));\n",
    "print(x.view(6,1));\n",
    "print(x.view(6));\n",
    "print(x.view(-1,2));\n",
    "print(x.view(-1,3));#-1表示自动计算\n",
    "print(x.view(3,-1));#-1表示自动计算\n",
    "#设置一个不能平均的形状\n",
    "try: #捕获异常\n",
    "    print(x.view(4,-1));\n",
    "except Exception as e:\n",
    "    print(e);"
   ]
  },
  {
   "cell_type": "code",
   "execution_count": null,
   "metadata": {},
   "outputs": [
    {
     "name": "stdout",
     "output_type": "stream",
     "text": [
      "tensor([[1, 2, 3],\n",
      "        [4, 5, 6],\n",
      "        [7, 8, 9]])\n",
      "tensor([[1, 4, 7],\n",
      "        [2, 5, 8],\n",
      "        [3, 6, 9]])\n",
      "tensor([[1, 4, 7],\n",
      "        [2, 5, 8],\n",
      "        [3, 6, 9]])\n"
     ]
    },
    {
     "ename": "IndexError",
     "evalue": "Dimension out of range (expected to be in range of [-2, 1], but got 2)",
     "output_type": "error",
     "traceback": [
      "\u001b[0;31m---------------------------------------------------------------------------\u001b[0m",
      "\u001b[0;31mIndexError\u001b[0m                                Traceback (most recent call last)",
      "Cell \u001b[0;32mIn[29], line 7\u001b[0m\n\u001b[1;32m      5\u001b[0m \u001b[38;5;28mprint\u001b[39m(x\u001b[38;5;241m.\u001b[39mtranspose(\u001b[38;5;241m0\u001b[39m,\u001b[38;5;241m1\u001b[39m));\u001b[38;5;66;03m#置换维度\u001b[39;00m\n\u001b[1;32m      6\u001b[0m \u001b[38;5;28mprint\u001b[39m(x\u001b[38;5;241m.\u001b[39mtranspose(\u001b[38;5;241m1\u001b[39m,\u001b[38;5;241m0\u001b[39m));\u001b[38;5;66;03m#置换维度\u001b[39;00m\n\u001b[0;32m----> 7\u001b[0m \u001b[38;5;28mprint\u001b[39m(\u001b[43mx\u001b[49m\u001b[38;5;241;43m.\u001b[39;49m\u001b[43mpermute\u001b[49m\u001b[43m(\u001b[49m\u001b[38;5;241;43m0\u001b[39;49m\u001b[43m,\u001b[49m\u001b[38;5;241;43m2\u001b[39;49m\u001b[43m)\u001b[49m);\u001b[38;5;66;03m#置换维度\u001b[39;00m\n\u001b[1;32m      8\u001b[0m \u001b[38;5;28mprint\u001b[39m(x\u001b[38;5;241m.\u001b[39mpermute(\u001b[38;5;241m1\u001b[39m,\u001b[38;5;241m0\u001b[39m));\u001b[38;5;66;03m#置换维度\u001b[39;00m\n",
      "\u001b[0;31mIndexError\u001b[0m: Dimension out of range (expected to be in range of [-2, 1], but got 2)"
     ]
    }
   ],
   "source": [
    "#置换张量\n",
    "x = torch.tensor([[1,2,3],[4,5,6],[7,8,9]]);\n",
    "print(x);\n",
    "#print(x.t());#置换维度 行列互换\n",
    "print(x.transpose(0,1));#置换维度\n",
    "print(x.transpose(1,0));#置换维度\n",
    "#print(x.permute(0,2));#置换维度设置为2报错\n",
    "print(x.permute(1,0));#置换维度"
   ]
  },
  {
   "cell_type": "code",
   "execution_count": null,
   "metadata": {},
   "outputs": [
    {
     "name": "stdout",
     "output_type": "stream",
     "text": [
      "tensor([[1, 2, 3],\n",
      "        [4, 5, 6],\n",
      "        [7, 8, 9]])\n",
      "tensor([1, 2, 3, 4, 5, 6, 7, 8, 9])\n",
      "tensor([1, 2, 3, 4, 5, 6, 7, 8, 9])\n"
     ]
    }
   ],
   "source": [
    "#展平为一维数组\n",
    "x = torch.tensor([[1,2,3],[4,5,6],[7,8,9]]);\n",
    "print(x);\n",
    "print(x.flatten());\n",
    "print(x.view(-1));#展平为一维数组"
   ]
  },
  {
   "cell_type": "code",
   "execution_count": 30,
   "metadata": {},
   "outputs": [
    {
     "name": "stdout",
     "output_type": "stream",
     "text": [
      "tensor([[1, 2, 3],\n",
      "        [4, 5, 6],\n",
      "        [7, 8, 9]])\n",
      "tensor([1, 2, 3])\n",
      "tensor(1)\n",
      "tensor(1)\n",
      "tensor([1, 2, 3])\n",
      "tensor([1, 4, 7])\n",
      "tensor([[1, 2, 3],\n",
      "        [4, 5, 6]])\n",
      "tensor([[1, 2],\n",
      "        [4, 5]])\n",
      "tensor([[1, 2, 3],\n",
      "        [4, 5, 6]])\n",
      "tensor([[1, 2],\n",
      "        [4, 5],\n",
      "        [7, 8]])\n",
      "tensor([1, 4])\n"
     ]
    }
   ],
   "source": [
    "#张量索引切片\n",
    "x = torch.tensor([[1,2,3],[4,5,6],[7,8,9]]);\n",
    "print(x);\n",
    "print(x[0]);\n",
    "print(x[0][0]);\n",
    "print(x[0,0]);\n",
    "print(x[0,:]);#取第一行\n",
    "print(x[:,0]);#取第一列\n",
    "print(x[0:2]);#取前两行\n",
    "print(x[0:2,0:2]);#取前两行前两列\n",
    "print(x[0:2,:]);#取前两行\n",
    "print(x[:,0:2]);#取前两列\n",
    "print(x[0:2,0]);#取前两行第一列"
   ]
  },
  {
   "cell_type": "code",
   "execution_count": null,
   "metadata": {},
   "outputs": [
    {
     "name": "stdout",
     "output_type": "stream",
     "text": [
      "tensor([[1, 2],\n",
      "        [3, 4],\n",
      "        [5, 6]])\n",
      "tensor([[0, 0],\n",
      "        [1, 0],\n",
      "        [0, 1]])\n",
      "tensor([[1, 1],\n",
      "        [4, 3],\n",
      "        [5, 6]])\n"
     ]
    }
   ],
   "source": [
    "#torch.gather()函数\n",
    "x = torch.tensor([[1,2],[3,4],[5,6]]);\n",
    "print(x);\n",
    "y = torch.tensor([[0,0],[1,0],[0,1]]);\n",
    "print(y);\n",
    "print(torch.gather(x,1,y));#按照y的索引取x的值\n",
    "#解释一下 就是y的下标加上y的值 比如y的下标是0 y的下标对应的值是0 所以是[0,0] x的值是1\n",
    "#y的下标是0 y的下标对应的第二个值是0 所以是[0,0] x的值是1 \n",
    "#结合上面的是[[0,0],[0,0]] = 对应的x的值得出是[[1,1]]\n",
    "#x = [[1,2],[3,4],[5,6]]\n",
    "#y = [[0,0],[1,0],[0,1]]\n",
    "#取x的值\n",
    "#x[0][0] x[0][0]\n",
    "#x[1][0] x[1][0]\n",
    "#x[2][0] x[2][1]"
   ]
  }
 ],
 "metadata": {
  "kernelspec": {
   "display_name": "py310",
   "language": "python",
   "name": "python3"
  },
  "language_info": {
   "codemirror_mode": {
    "name": "ipython",
    "version": 3
   },
   "file_extension": ".py",
   "mimetype": "text/x-python",
   "name": "python",
   "nbconvert_exporter": "python",
   "pygments_lexer": "ipython3",
   "version": "3.10.16"
  }
 },
 "nbformat": 4,
 "nbformat_minor": 2
}
