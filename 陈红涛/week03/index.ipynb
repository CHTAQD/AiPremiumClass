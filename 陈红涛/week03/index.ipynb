{
 "cells": [
  {
   "cell_type": "code",
   "execution_count": 3,
   "metadata": {},
   "outputs": [],
   "source": [
    "import torch.nn as nn \n",
    "import torch;\n",
    "#x输入 shape(60000,784)\n",
    "\n",
    "#隐藏层 shape(784,64) 参数矩阵\n",
    "#隐藏层 shape （64，）\n"
   ]
  },
  {
   "cell_type": "code",
   "execution_count": null,
   "metadata": {},
   "outputs": [],
   "source": [
    "####隐藏层\n",
    "\n",
    "#线性层\n",
    "linear = nn.Linear(in_features=784,out_features=64,bias=True)\n",
    "\n",
    "#激活函数\n",
    "act = nn.Sigmoid();\n",
    "## 输出层\n",
    "linear2 = nn.Linear(in_features=64,out_features=10,bias=True )\n",
    "#模拟输入\n",
    "\n",
    "x = torch.randn(10,784);\n",
    "out = linear(x);\n",
    "\n",
    "out2 = act(out);\n",
    "\n",
    "out3 = linear2(out2)\n",
    "\n",
    "softmax = nn.Softmax(dim=1);\n",
    "final = softmax(out3) \n",
    "print(final)\n"
   ]
  },
  {
   "cell_type": "code",
   "execution_count": null,
   "metadata": {},
   "outputs": [],
   "source": [
    "#所有的结构穿连\n",
    "\n",
    "model = nn.Sequential(\n",
    "    nn.Linear(784,64),\n",
    "    nn.Sigmoid(),\n",
    "    nn.Linear(64,10)\n",
    ")\n",
    "x = torch.randn(10,784);\n",
    "modelout = model(x)\n",
    "softmax = nn.Softmax(dim=1);\n",
    "final = softmax(modelout) \n",
    "final"
   ]
  },
  {
   "cell_type": "code",
   "execution_count": 16,
   "metadata": {},
   "outputs": [],
   "source": [
    "loss_fn = nn.CrossEntropyLoss();\n",
    "\n",
    "#优化器\n",
    "optimizer = torch.optim.SGD(model.parameters(),lr=0.01)"
   ]
  },
  {
   "cell_type": "code",
   "execution_count": 17,
   "metadata": {},
   "outputs": [
    {
     "data": {
      "text/plain": [
       "SGD (\n",
       "Parameter Group 0\n",
       "    dampening: 0\n",
       "    differentiable: False\n",
       "    foreach: None\n",
       "    fused: None\n",
       "    lr: 0.01\n",
       "    maximize: False\n",
       "    momentum: 0\n",
       "    nesterov: False\n",
       "    weight_decay: 0\n",
       ")"
      ]
     },
     "execution_count": 17,
     "metadata": {},
     "output_type": "execute_result"
    }
   ],
   "source": [
    "optimizer"
   ]
  }
 ],
 "metadata": {
  "kernelspec": {
   "display_name": "py310",
   "language": "python",
   "name": "python3"
  },
  "language_info": {
   "codemirror_mode": {
    "name": "ipython",
    "version": 3
   },
   "file_extension": ".py",
   "mimetype": "text/x-python",
   "name": "python",
   "nbconvert_exporter": "python",
   "pygments_lexer": "ipython3",
   "version": "3.10.16"
  }
 },
 "nbformat": 4,
 "nbformat_minor": 2
}
